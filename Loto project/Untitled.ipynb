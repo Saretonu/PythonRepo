{
 "cells": [
  {
   "cell_type": "code",
   "execution_count": 28,
   "id": "1a4e4672-e889-4929-9129-8ed17b8e973f",
   "metadata": {},
   "outputs": [],
   "source": [
    "import json\n",
    "from pathlib import Path\n"
   ]
  },
  {
   "cell_type": "code",
   "execution_count": 18,
   "id": "8e46ad29-9f27-4cb0-a268-371ded1530e2",
   "metadata": {},
   "outputs": [],
   "source": [
    "#pathNP = r\"C:\\Users\\sareton\\Documents\\Kodu\\PythonRepo\\Loto project\\Data\\1356.html\"\n",
    "pathNP = r\"C:\\Users\\sareton\\Documents\\Kodu\\Labview\\Eestiloto\\Data\\1356.html\""
   ]
  },
  {
   "cell_type": "code",
   "execution_count": 19,
   "id": "7d371639-9431-4b8d-9a30-8189e09768ea",
   "metadata": {},
   "outputs": [],
   "source": [
    "def listToString(s): \n",
    "    \n",
    "    # initialize an empty string\n",
    "    str1 = \"\" \n",
    "    \n",
    "    # traverse in the string  \n",
    "    for ele in s: \n",
    "        str1 += ele  \n",
    "    \n",
    "    # return string  \n",
    "    return str1 "
   ]
  },
  {
   "cell_type": "code",
   "execution_count": 20,
   "id": "ceabf1f4-994c-4a29-88de-4ab1358db383",
   "metadata": {},
   "outputs": [],
   "source": [
    "class DivClassIndex():\n",
    "    def __init__(self, startDivIndex, endDivIndex):\n",
    "        self.startDivIndex = startDivIndex\n",
    "        self.endDivIndex = endDivIndex"
   ]
  },
  {
   "cell_type": "code",
   "execution_count": 21,
   "id": "3456e381-0d09-4d75-939f-d67c385530e3",
   "metadata": {},
   "outputs": [],
   "source": [
    "def findDivStartAndEnd(className, strArray):\n",
    "    response = []\n",
    "    startFound = False\n",
    "    divCount = 0\n",
    "    startDivIndex = -1\n",
    "    endDivIndex = -1\n",
    "    RowIndex = -1\n",
    "    FoundCount = 0\n",
    "    for x in strArray:\n",
    "        RowIndex +=1\n",
    "        if startFound:\n",
    "            if x.find('<div') >= 0:\n",
    "                divCount += 1\n",
    "            if x.find('</div>') >= 0:\n",
    "                if divCount == 0:\n",
    "                    endDivIndex = RowIndex\n",
    "                else:\n",
    "                    divCount -= 1\n",
    "        else:\n",
    "            if x.find('<div class=\"'+className+'\">') >= 0:\n",
    "                startDivIndex = RowIndex\n",
    "                startFound = True\n",
    "        if startDivIndex != -1 and endDivIndex != -1:\n",
    "            response.append(DivClassIndex(startDivIndex,endDivIndex))\n",
    "            startFound = False\n",
    "            divCount = 0\n",
    "            startDivIndex = -1\n",
    "            endDivIndex = -1\n",
    "    return(response)"
   ]
  },
  {
   "cell_type": "code",
   "execution_count": 22,
   "id": "7ae38e58-4f02-4624-8d8c-042dff21b118",
   "metadata": {},
   "outputs": [],
   "source": [
    "class BallsClass():\n",
    "    def __init__(self, name):\n",
    "        self.name = name\n",
    "        self.balls = []"
   ]
  },
  {
   "cell_type": "code",
   "execution_count": 43,
   "id": "ee012086-a6fe-4a5f-8c44-43aeea3a5c08",
   "metadata": {},
   "outputs": [],
   "source": [
    "class GameClass():\n",
    "    def __init__(self, name):\n",
    "        self.name = name\n",
    "        self.games = []\n",
    "        \n",
    "    def printStr(self):\n",
    "        respond = []\n",
    "        for x in self.games:\n",
    "            respond.append(json.dumps(x.__dict__))\n",
    "        return respond"
   ]
  },
  {
   "cell_type": "code",
   "execution_count": 44,
   "id": "522b51bf-1014-4a18-8afa-30948ddba9f3",
   "metadata": {},
   "outputs": [],
   "source": [
    "def GetBallsClass(strArray):\n",
    "    resultType = findDivStartAndEnd('modal_title',strArray)\n",
    "    resultBalls = findDivStartAndEnd('game_number',strArray)\n",
    "    response = BallsClass(strArray[resultType[0].startDivIndex+1].strip().replace(\"\\u00c3\\u00b5\",\"o\").replace(\"\\u00c3\\u00a4\",\"a\"))\n",
    "    for balls in resultBalls:\n",
    "        response.balls.append(strArray[balls.startDivIndex+1].strip())\n",
    "    return response"
   ]
  },
  {
   "cell_type": "code",
   "execution_count": 55,
   "id": "6f009b3f-e547-415b-9163-3a65ad702b20",
   "metadata": {},
   "outputs": [],
   "source": [
    "def GetGameFileResult(fileLocation):\n",
    "    fileName = Path(fileLocation).stem\n",
    "    game = GameClass(fileName)\n",
    "    l = []\n",
    "    f = open(fileLocation, 'r')\n",
    "    lList = f.readlines()\n",
    "    for x in lList:\n",
    "        l.append(x.strip())\n",
    "    f.close()\n",
    "\n",
    "    r = listToString(l)\n",
    "    editL = list(lList)\n",
    "\n",
    "    Findclass = 'game_results'\n",
    "    res = findDivStartAndEnd(Findclass,l)\n",
    "    #for x in res:\n",
    "        #print(str(x.startDivIndex)+','+str(x.endDivIndex))\n",
    "\n",
    "    data = []\n",
    "    for x in res:\n",
    "        data.append(editL[x.startDivIndex:x.endDivIndex])\n",
    "        \n",
    "    ballsData = []\n",
    "    for dataIdx, val in enumerate(data):\n",
    "        ballsData.append(GetBallsClass(val))\n",
    "    game.games.append(ballsData)\n",
    "    #print(game.name)\n",
    "    #for testString in ballsData:\n",
    "        #print(json.dumps(testString.__dict__))\n"
   ]
  },
  {
   "cell_type": "code",
   "execution_count": 59,
   "id": "cbc643d4-05ff-406e-bdb3-8bdd885fcc90",
   "metadata": {},
   "outputs": [
    {
     "name": "stdout",
     "output_type": "stream",
     "text": [
      "['1000.html', '1001.html', '1002.html', '1003.html', '1004.html', '1005.html', '1006.html', '1007.html', '1008.html', '1009.html', '1010.html', '1011.html', '1012.html', '1013.html', '1014.html', '1015.html', '1016.html', '1017.html', '1018.html', '1019.html', '1020.html', '1021.html', '1022.html', '1023.html', '1024.html', '1025.html', '1026.html', '1027.html', '1028.html', '1029.html', '1030.html', '1031.html', '1032.html', '1033.html', '1034.html', '1035.html', '1036.html', '1037.html', '1038.html', '1039.html', '1040.html', '1041.html', '1042.html', '1043.html', '1044.html', '1045.html', '1046.html', '1047.html', '1048.html', '1049.html', '1050.html', '1051.html', '1052.html', '1053.html', '1054.html', '1055.html', '1056.html', '1057.html', '1058.html', '1059.html', '1060.html', '1061.html', '1062.html', '1063.html', '1064.html', '1065.html', '1066.html', '1067.html', '1068.html', '1069.html', '1070.html', '1071.html', '1072.html', '1073.html', '1074.html', '1075.html', '1076.html', '1077.html', '1078.html', '1079.html', '1080.html', '1081.html', '1082.html', '1083.html', '1084.html', '1085.html', '1086.html', '1087.html', '1088.html', '1089.html', '1090.html', '1091.html', '1092.html', '1093.html', '1094.html', '1095.html', '1096.html', '1097.html', '1098.html', '1099.html', '1100.html', '1101.html', '1102.html', '1103.html', '1104.html', '1105.html', '1106.html', '1107.html', '1108.html', '1109.html', '1110.html', '1111.html', '1112.html', '1113.html', '1114.html', '1115.html', '1116.html', '1117.html', '1118.html', '1119.html', '1120.html', '1121.html', '1122.html', '1123.html', '1124.html', '1125.html', '1126.html', '1127.html', '1128.html', '1129.html', '1130.html', '1131.html', '1132.html', '1133.html', '1134.html', '1135.html', '1136.html', '1137.html', '1138.html', '1139.html', '1140.html', '1141.html', '1142.html', '1143.html', '1144.html', '1145.html', '1146.html', '1147.html', '1148.html', '1149.html', '1150.html', '1151.html', '1152.html', '1153.html', '1154.html', '1155.html', '1156.html', '1157.html', '1158.html', '1159.html', '1160.html', '1161.html', '1162.html', '1163.html', '1164.html', '1165.html', '1166.html', '1167.html', '1168.html', '1169.html', '1170.html', '1171.html', '1172.html', '1173.html', '1174.html', '1175.html', '1176.html', '1177.html', '1178.html', '1179.html', '1180.html', '1181.html', '1182.html', '1183.html', '1184.html', '1185.html', '1186.html', '1187.html', '1188.html', '1189.html', '1190.html', '1191.html', '1192.html', '1193.html', '1194.html', '1195.html', '1196.html', '1197.html', '1198.html', '1199.html', '1200.html', '1201.html', '1202.html', '1203.html', '1204.html', '1205.html', '1206.html', '1207.html', '1208.html', '1209.html', '1210.html', '1211.html', '1212.html', '1213.html', '1214.html', '1215.html', '1216.html', '1217.html', '1218.html', '1219.html', '1220.html', '1221.html', '1222.html', '1223.html', '1224.html', '1225.html', '1226.html', '1227.html', '1228.html', '1229.html', '1230.html', '1231.html', '1232.html', '1233.html', '1234.html', '1235.html', '1236.html', '1237.html', '1238.html', '1239.html', '1240.html', '1241.html', '1242.html', '1243.html', '1244.html', '1245.html', '1246.html', '1247.html', '1248.html', '1249.html', '1250.html', '1251.html', '1252.html', '1253.html', '1254.html', '1255.html', '1256.html', '1257.html', '1258.html', '1259.html', '1260.html', '1261.html', '1262.html', '1263.html', '1264.html', '1265.html', '1266.html', '1267.html', '1268.html', '1269.html', '1270.html', '1271.html', '1272.html', '1273.html', '1274.html', '1275.html', '1276.html', '1277.html', '1278.html', '1279.html', '1280.html', '1281.html', '1282.html', '1283.html', '1284.html', '1285.html', '1286.html', '1287.html', '1288.html', '1289.html', '1290.html', '1291.html', '1292.html', '1293.html', '1294.html', '1295.html', '1297.html', '1300.html', '1301.html', '1302.html', '1304.html', '1305.html', '1306.html', '1308.html', '1309.html', '1310.html', '1311.html', '1313.html', '1314.html', '1315.html', '1316.html', '1317.html', '1318.html', '1319.html', '1320.html', '1321.html', '1322.html', '1323.html', '1324.html', '1325.html', '1326.html', '1327.html', '1328.html', '1329.html', '1330.html', '1331.html', '1332.html', '1333.html', '1334.html', '1335.html', '1336.html', '1337.html', '1338.html', '1339.html', '1340.html', '1341.html', '1342.html', '1344.html', '1345.html', '1346.html', '1347.html', '1348.html', '1349.html', '1350.html', '1351.html', '1352.html', '1353.html', '1354.html', '1355.html', '1356.html', '550.html', '551.html', '552.html', '553.html', '554.html', '555.html', '556.html', '557.html', '558.html', '559.html', '560.html', '561.html', '562.html', '563.html', '564.html', '565.html', '566.html', '567.html', '568.html', '569.html', '570.html', '571.html', '572.html', '573.html', '574.html', '575.html', '576.html', '577.html', '578.html', '579.html', '580.html', '581.html', '582.html', '583.html', '584.html', '585.html', '586.html', '587.html', '588.html', '589.html', '590.html', '591.html', '592.html', '593.html', '594.html', '595.html', '596.html', '597.html', '598.html', '599.html', '600.html', '601.html', '602.html', '603.html', '604.html', '605.html', '606.html', '607.html', '608.html', '609.html', '610.html', '611.html', '612.html', '613.html', '614.html', '615.html', '616.html', '617.html', '618.html', '619.html', '620.html', '621.html', '622.html', '623.html', '624.html', '625.html', '626.html', '627.html', '628.html', '629.html', '630.html', '631.html', '632.html', '633.html', '634.html', '635.html', '636.html', '637.html', '638.html', '639.html', '640.html', '641.html', '642.html', '643.html', '644.html', '645.html', '646.html', '647.html', '648.html', '649.html', '650.html', '651.html', '652.html', '653.html', '654.html', '655.html', '656.html', '657.html', '658.html', '659.html', '660.html', '661.html', '662.html', '663.html', '664.html', '665.html', '666.html', '667.html', '668.html', '669.html', '670.html', '671.html', '672.html', '673.html', '674.html', '675.html', '676.html', '677.html', '678.html', '679.html', '680.html', '681.html', '682.html', '683.html', '684.html', '685.html', '686.html', '687.html', '688.html', '689.html', '690.html', '691.html', '692.html', '693.html', '694.html', '695.html', '696.html', '697.html', '698.html', '699.html', '700.html', '701.html', '702.html', '703.html', '704.html', '705.html', '706.html', '707.html', '708.html', '709.html', '710.html', '711.html', '712.html', '713.html', '714.html', '715.html', '716.html', '717.html', '718.html', '719.html', '720.html', '721.html', '722.html', '723.html', '724.html', '725.html', '726.html', '727.html', '728.html', '729.html', '730.html', '731.html', '732.html', '733.html', '734.html', '735.html', '736.html', '737.html', '738.html', '739.html', '740.html', '741.html', '742.html', '743.html', '744.html', '745.html', '746.html', '747.html', '748.html', '749.html', '750.html', '751.html', '752.html', '753.html', '754.html', '755.html', '756.html', '757.html', '758.html', '759.html', '760.html', '761.html', '762.html', '763.html', '764.html', '765.html', '766.html', '767.html', '768.html', '769.html', '770.html', '771.html', '772.html', '773.html', '774.html', '775.html', '776.html', '777.html', '778.html', '779.html', '780.html', '781.html', '782.html', '783.html', '784.html', '785.html', '786.html', '787.html', '788.html', '789.html', '790.html', '791.html', '792.html', '793.html', '794.html', '795.html', '796.html', '797.html', '798.html', '799.html', '800.html', '801.html', '802.html', '803.html', '804.html', '805.html', '806.html', '807.html', '808.html', '809.html', '810.html', '811.html', '812.html', '813.html', '814.html', '815.html', '816.html', '817.html', '818.html', '819.html', '820.html', '821.html', '822.html', '823.html', '824.html', '825.html', '826.html', '827.html', '828.html', '829.html', '830.html', '831.html', '832.html', '833.html', '834.html', '835.html', '836.html', '837.html', '838.html', '839.html', '840.html', '841.html', '842.html', '843.html', '844.html', '845.html', '846.html', '847.html', '848.html', '849.html', '850.html', '851.html', '852.html', '853.html', '854.html', '855.html', '856.html', '857.html', '858.html', '859.html', '860.html', '861.html', '862.html', '863.html', '864.html', '865.html', '866.html', '867.html', '868.html', '869.html', '870.html', '871.html', '872.html', '873.html', '874.html', '875.html', '876.html', '877.html', '878.html', '879.html', '880.html', '881.html', '882.html', '883.html', '884.html', '885.html', '886.html', '887.html', '888.html', '889.html', '890.html', '891.html', '892.html', '893.html', '894.html', '895.html', '896.html', '897.html', '898.html', '899.html', '900.html', '901.html', '902.html', '903.html', '904.html', '905.html', '906.html', '907.html', '908.html', '909.html', '910.html', '911.html', '912.html', '913.html', '914.html', '915.html', '916.html', '917.html', '918.html', '919.html', '920.html', '921.html', '922.html', '923.html', '924.html', '925.html', '926.html', '927.html', '928.html', '929.html', '930.html', '931.html', '932.html', '933.html', '934.html', '935.html', '936.html', '937.html', '938.html', '939.html', '940.html', '941.html', '942.html', '943.html', '944.html', '945.html', '946.html', '947.html', '948.html', '949.html', '950.html', '951.html', '952.html', '953.html', '954.html', '955.html', '956.html', '957.html', '958.html', '959.html', '960.html', '961.html', '962.html', '963.html', '964.html', '965.html', '966.html', '967.html', '968.html', '969.html', '970.html', '971.html', '972.html', '973.html', '974.html', '975.html', '976.html', '977.html', '978.html', '979.html', '980.html', '981.html', '982.html', '983.html', '984.html', '985.html', '986.html', '987.html', '988.html', '989.html', '990.html', '991.html', '992.html', '993.html', '994.html', '995.html', '996.html', '997.html', '998.html', '999.html', 'Data.zip']\n"
     ]
    }
   ],
   "source": [
    "from os import walk\n",
    "path = r\"C:\\Users\\sareton\\Documents\\Kodu\\Labview\\Eestiloto\\Data\"\n",
    "f = []\n",
    "for (dirpath, dirnames, filenames) in walk(path):\n",
    "    f.extend(filenames)\n",
    "    break\n",
    "print(f)\n",
    "for file in f:\n",
    "    if file\n",
    "#GetGameFileResult(pathNP)\n",
    "# TODO - check if string contains .html and then put path and file name together and loop process. Then create some kind of data file of results"
   ]
  },
  {
   "cell_type": "code",
   "execution_count": 26,
   "id": "c4f0fca8-41ce-4672-beb8-27fe680533b5",
   "metadata": {},
   "outputs": [],
   "source": [
    "#index = 0;\n",
    "#for x in l:\n",
    "#    print(str(index) + ':' + x.strip())\n",
    "#    index += 1"
   ]
  },
  {
   "cell_type": "code",
   "execution_count": null,
   "id": "46ec77d7-84c6-4ed7-bc4a-9b1141d4b5f5",
   "metadata": {},
   "outputs": [],
   "source": []
  }
 ],
 "metadata": {
  "kernelspec": {
   "display_name": "Python 3 (ipykernel)",
   "language": "python",
   "name": "python3"
  },
  "language_info": {
   "codemirror_mode": {
    "name": "ipython",
    "version": 3
   },
   "file_extension": ".py",
   "mimetype": "text/x-python",
   "name": "python",
   "nbconvert_exporter": "python",
   "pygments_lexer": "ipython3",
   "version": "3.10.2"
  }
 },
 "nbformat": 4,
 "nbformat_minor": 5
}
